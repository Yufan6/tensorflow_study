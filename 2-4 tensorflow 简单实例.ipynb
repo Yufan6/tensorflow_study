{
 "cells": [
  {
   "cell_type": "code",
   "execution_count": 3,
   "metadata": {},
   "outputs": [],
   "source": [
    "import tensorflow as tf\n",
    "import numpy as np"
   ]
  },
  {
   "cell_type": "code",
   "execution_count": 9,
   "metadata": {},
   "outputs": [
    {
     "name": "stdout",
     "output_type": "stream",
     "text": [
      "0 [2.2892573, 0.722584]\n",
      "20 [0.98169285, -0.25408748]\n",
      "40 [0.61224896, -0.06381829]\n",
      "60 [0.39760837, 0.04672584]\n",
      "80 [0.2729057, 0.110950164]\n",
      "100 [0.20045541, 0.14826348]\n",
      "120 [0.15836297, 0.16994192]\n",
      "140 [0.13390793, 0.18253675]\n",
      "160 [0.11969994, 0.18985415]\n",
      "180 [0.11144535, 0.19410542]\n",
      "200 [0.10664958, 0.19657534]\n"
     ]
    }
   ],
   "source": [
    "# 使用numpy 生成100个随机点\n",
    "x_data = np.random.rand(100)\n",
    "y_data = x_data*0.1 + 0.2\n",
    "\n",
    "# 构造一个线性的模型\n",
    "b = tf.Variable(2.0)\n",
    "k = tf.Variable(3.0)\n",
    "y = k*x_data + b\n",
    "\n",
    "# 二次代价函数\n",
    "loss = tf.reduce_mean(tf.square(y_data-y))\n",
    "# 定义一个梯度下降法来进行训练的优化器\n",
    "optimizer = tf.train.GradientDescentOptimizer(learning_rate=0.2)\n",
    "# 最小化代价函数\n",
    "train = optimizer.minimize(loss)\n",
    "# 初始化变量\n",
    "init = tf.global_variables_initializer()\n",
    "\n",
    "with tf.Session() as sess:\n",
    "    sess.run(init)\n",
    "    for step in range(201):\n",
    "        sess.run(train)\n",
    "        if step%20 ==0:\n",
    "            print(step, sess.run([k,b]))\n",
    "    "
   ]
  },
  {
   "cell_type": "code",
   "execution_count": null,
   "metadata": {},
   "outputs": [],
   "source": []
  }
 ],
 "metadata": {
  "kernelspec": {
   "display_name": "Python 3",
   "language": "python",
   "name": "python3"
  },
  "language_info": {
   "codemirror_mode": {
    "name": "ipython",
    "version": 3
   },
   "file_extension": ".py",
   "mimetype": "text/x-python",
   "name": "python",
   "nbconvert_exporter": "python",
   "pygments_lexer": "ipython3",
   "version": "3.6.9"
  }
 },
 "nbformat": 4,
 "nbformat_minor": 2
}
